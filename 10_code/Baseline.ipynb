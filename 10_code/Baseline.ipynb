{
 "cells": [
  {
   "cell_type": "code",
   "execution_count": 9,
   "metadata": {},
   "outputs": [],
   "source": [
    "import tensorflow as tf\n",
    "import numpy as np\n",
    "from numpy.random import randn\n",
    "import pathlib\n",
    "import random\n",
    "from PIL import Image\n",
    "from matplotlib.image import imread\n",
    "from keras.preprocessing import image\n",
    "import matplotlib.pyplot as plt\n",
    "import pandas as pd\n",
    "import os"
   ]
  },
  {
   "cell_type": "code",
   "execution_count": 3,
   "metadata": {},
   "outputs": [],
   "source": [
    "data_dir = pathlib.Path(\"/workspaces/awesome-ml-group/00_source_data/images/train\")"
   ]
  },
  {
   "cell_type": "code",
   "execution_count": 4,
   "metadata": {},
   "outputs": [],
   "source": [
    "label_names={'angry':0,\n",
    "            'disgust':1,\n",
    "            'fear':3,\n",
    "            'happy':4,\n",
    "            'neutral':5,\n",
    "            'sad':6,\n",
    "            'suprise':7\n",
    "}"
   ]
  },
  {
   "cell_type": "code",
   "execution_count": null,
   "metadata": {},
   "outputs": [],
   "source": [
    "img_data=[]\n",
    "count=0\n",
    "all_images = list(data_dir.glob('*'))\n",
    "all_labels=[]\n",
    "\n",
    "wrong_emotion=['disgust','fear','surprise','fea','angry']\n",
    "for i in all_images:\n",
    "  a=str(i)[str(i).rfind('/')+1:]\n",
    "  emotion=a[:a.find('_')]\n",
    "\n",
    "  if emotion not in wrong_emotion :\n",
    "    img=Image.open(str(i))\n",
    "    \n",
    "\n",
    "    img=img.resize((64,64))\n",
    "    img=np.array(img).astype('float64')\n",
    "    img=img/255\n",
    "    img_data.append(img)"
   ]
  },
  {
   "cell_type": "code",
   "execution_count": 35,
   "metadata": {},
   "outputs": [],
   "source": [
    "img_data={}\n",
    "all_image = list(data_dir.glob('*'))\n",
    "\n",
    "# wrong_emotion=['disgust','fear','surprise','fea','angry']\n",
    "for folder in all_image:\n",
    "    a=str(folder)[str(folder).rfind('/')+1:]\n",
    "    if a in label_names:\n",
    "        img_data[a] = []\n",
    "    else:\n",
    "        continue\n",
    "    for i in os.listdir(folder):\n",
    "        i = str(folder)+'/'+i\n",
    "        img=Image.open(i)\n",
    "        img=img.resize((64,64))\n",
    "        img=np.array(img).astype('float64')\n",
    "        img=img/255\n",
    "        img_data[a].append(img)"
   ]
  },
  {
   "cell_type": "code",
   "execution_count": 36,
   "metadata": {},
   "outputs": [
    {
     "name": "stdout",
     "output_type": "stream",
     "text": [
      "sad 4938\n",
      "fear 4103\n",
      "happy 7164\n",
      "disgust 436\n",
      "neutral 4982\n",
      "angry 3993\n"
     ]
    }
   ],
   "source": [
    "for k,v in img_data.items():\n",
    "    print(k, len(v))"
   ]
  },
  {
   "cell_type": "code",
   "execution_count": 37,
   "metadata": {},
   "outputs": [],
   "source": [
    "#Masking\n",
    "top_mask=[]\n",
    "bottom_mask=[]\n",
    "\n",
    "def creating_mask():\n",
    "    a=np.array([0]*2048)\n",
    "    a=a.reshape((32,64))\n",
    "    b=np.array([1]*2048)\n",
    "    b=b.reshape((32,64))\n",
    "    return a,b\n",
    "\n",
    "\n",
    "for i in img_data[\"sad\"]:\n",
    "    a,b=creating_mask()\n",
    "    con_bot = np.concatenate((b,a),axis=0)\n",
    "    con_top = np.concatenate((a,b),axis=0)\n",
    "    bottom_mask.append(i[:32,:])\n",
    "    top_mask.append(i[32:,:])"
   ]
  },
  {
   "cell_type": "code",
   "execution_count": null,
   "metadata": {},
   "outputs": [],
   "source": []
  }
 ],
 "metadata": {
  "kernelspec": {
   "display_name": "Python 3",
   "language": "python",
   "name": "python3"
  },
  "language_info": {
   "codemirror_mode": {
    "name": "ipython",
    "version": 3
   },
   "file_extension": ".py",
   "mimetype": "text/x-python",
   "name": "python",
   "nbconvert_exporter": "python",
   "pygments_lexer": "ipython3",
   "version": "3.10.4"
  },
  "orig_nbformat": 4
 },
 "nbformat": 4,
 "nbformat_minor": 2
}
