{
 "cells": [
  {
   "cell_type": "code",
   "execution_count": 1,
   "metadata": {},
   "outputs": [
    {
     "name": "stderr",
     "output_type": "stream",
     "text": [
      "2023-03-31 18:33:11.990317: I tensorflow/tsl/cuda/cudart_stub.cc:28] Could not find cuda drivers on your machine, GPU will not be used.\n",
      "2023-03-31 18:33:14.813510: I tensorflow/tsl/cuda/cudart_stub.cc:28] Could not find cuda drivers on your machine, GPU will not be used.\n",
      "2023-03-31 18:33:14.815530: I tensorflow/core/platform/cpu_feature_guard.cc:182] This TensorFlow binary is optimized to use available CPU instructions in performance-critical operations.\n",
      "To enable the following instructions: AVX2 AVX512F FMA, in other operations, rebuild TensorFlow with the appropriate compiler flags.\n",
      "2023-03-31 18:33:21.593327: W tensorflow/compiler/tf2tensorrt/utils/py_utils.cc:38] TF-TRT Warning: Could not find TensorRT\n"
     ]
    }
   ],
   "source": [
    "# customary imports:\n",
    "import tensorflow as tf\n",
    "from tensorflow import keras\n",
    "import numpy as np\n",
    "import matplotlib.pyplot as plt\n",
    "from PIL import Image, ImageOps\n",
    "import glob\n",
    "import os\n",
    "import tqdm\n",
    "from sklearn.model_selection import StratifiedKFold"
   ]
  },
  {
   "cell_type": "code",
   "execution_count": 2,
   "metadata": {},
   "outputs": [
    {
     "data": {
      "image/png": "[encoded data removed]",
      "text/plain": [
       "<PIL.JpegImagePlugin.JpegImageFile image mode=L size=48x48>"
      ]
     },
     "execution_count": 2,
     "metadata": {},
     "output_type": "execute_result"
    }
   ],
   "source": [
    "# loading a sample image\n",
    "sample_image = Image.open(\"/workspaces/awesome-ml-group/00_source_data/images/train/angry/0.jpg\")\n",
    "sample_image"
   ]
  },
  {
   "cell_type": "code",
   "execution_count": 3,
   "metadata": {},
   "outputs": [
    {
     "data": {
      "text/plain": [
       "(48, 48)"
      ]
     },
     "execution_count": 3,
     "metadata": {},
     "output_type": "execute_result"
    }
   ],
   "source": [
    "np.array(sample_image).shape"
   ]
  },
  {
   "cell_type": "code",
   "execution_count": 4,
   "metadata": {},
   "outputs": [],
   "source": [
    "def load_and_crop(image_path, crop_size, normalized=True):\n",
    "    image = Image.open(image_path).resize([200,200])\n",
    "    width, height = image.size   # Get dimensions\n",
    "    left = (width - crop_size)/2\n",
    "    top = (height - crop_size)/2\n",
    "    right = (width + crop_size)/2\n",
    "    bottom = (height + crop_size)/2\n",
    "    # Crop the center of the image\n",
    "    image = ImageOps.grayscale(image.crop((left, top, right, bottom)))\n",
    "    if normalized:\n",
    "        return np.array(image).astype(np.float32) / 255.0\n",
    "    else:\n",
    "        return np.array(image).astype(np.float32)"
   ]
  },
  {
   "cell_type": "code",
   "execution_count": 5,
   "metadata": {},
   "outputs": [
    {
     "name": "stdout",
     "output_type": "stream",
     "text": [
      "(23056, 48, 48, 1) (23056, 7)\n",
      "(5765, 48, 48, 1) (5765, 7)\n"
     ]
    },
    {
     "data": {
      "text/plain": [
       "<matplotlib.colorbar.Colorbar at 0x7f5048db0f70>"
      ]
     },
     "execution_count": 5,
     "metadata": {},
     "output_type": "execute_result"
    },
    {
     "data": {
      "image/png": "[encoded data removed]",
      "text/plain": [
       "<Figure size 640x480 with 2 Axes>"
      ]
     },
     "metadata": {},
     "output_type": "display_data"
    }
   ],
   "source": [
    "# code to load all the data, assuming dataset is at PBC_dataset_normal_DIB relative path\n",
    "emo_types = ['angry', 'disgust', 'fear', 'happy', 'neutral', 'sad', 'surprise']\n",
    "emo_inds = np.arange(0, len(emo_types))\n",
    "x_data = []\n",
    "y_data = []\n",
    "for emo_ind in emo_inds:\n",
    "    all_images = glob.glob(os.path.join('/workspaces/awesome-ml-group/00_source_data/images/train', emo_types[emo_ind],'*.jpg'))\n",
    "    x_data += [load_and_crop(image_path, 48) for image_path in all_images]\n",
    "    y_data += [emo_ind]*len(all_images)\n",
    "\n",
    "# adding a fake color channel\n",
    "x_data = np.array(x_data).reshape(-1, 48, 48, 1)\n",
    "y_data = np.array(y_data)\n",
    "\n",
    "folder = StratifiedKFold(5, shuffle=True)\n",
    "x_indices = np.arange(0, len(x_data))\n",
    "train_indices, val_indices = folder.split(x_indices, y_data).__next__()\n",
    "# shuffling\n",
    "np.random.shuffle(train_indices)\n",
    "\n",
    "x_train = x_data[train_indices]\n",
    "y_train = np.eye(len(emo_types))[y_data[train_indices]]\n",
    "\n",
    "x_val = x_data[val_indices]\n",
    "y_val = np.eye(len(emo_types))[y_data[val_indices]]\n",
    "\n",
    "print(x_train.shape, y_train.shape)\n",
    "print(x_val.shape, y_val.shape)\n",
    "\n",
    "plt.imshow(x_train[0,:,:,0])\n",
    "plt.colorbar()"
   ]
  },
  {
   "cell_type": "code",
   "execution_count": 6,
   "metadata": {},
   "outputs": [
    {
     "data": {
      "text/plain": [
       "(48, 48, 1)"
      ]
     },
     "execution_count": 6,
     "metadata": {},
     "output_type": "execute_result"
    }
   ],
   "source": [
    "x_train[0].shape"
   ]
  },
  {
   "cell_type": "code",
   "execution_count": 7,
   "metadata": {},
   "outputs": [
    {
     "name": "stderr",
     "output_type": "stream",
     "text": [
      "2023-03-31 18:37:27.899771: W tensorflow/tsl/framework/cpu_allocator_impl.cc:83] Allocation of 33554432 exceeds 10% of free system memory.\n",
      "2023-03-31 18:37:27.955232: W tensorflow/tsl/framework/cpu_allocator_impl.cc:83] Allocation of 33554432 exceeds 10% of free system memory.\n",
      "2023-03-31 18:37:27.975367: W tensorflow/tsl/framework/cpu_allocator_impl.cc:83] Allocation of 33554432 exceeds 10% of free system memory.\n",
      "2023-03-31 18:37:28.014214: W tensorflow/tsl/framework/cpu_allocator_impl.cc:83] Allocation of 67108864 exceeds 10% of free system memory.\n",
      "2023-03-31 18:37:28.106900: W tensorflow/tsl/framework/cpu_allocator_impl.cc:83] Allocation of 67108864 exceeds 10% of free system memory.\n"
     ]
    }
   ],
   "source": [
    "VGG16_model = tf.keras.models.Sequential([\n",
    "    # Input layer\n",
    "    tf.keras.layers.Input(x_train[0].shape),\n",
    "\n",
    "    # convolutional layers:\n",
    "    tf.keras.layers.Conv2D(filters=64,kernel_size=3, padding='same',activation='relu'),\n",
    "    tf.keras.layers.Conv2D(filters=64,kernel_size=3, padding='same',activation='relu'),\n",
    "\n",
    "    #Max pooling layer:\n",
    "    tf.keras.layers.MaxPool2D(pool_size =2, strides =2, padding ='same'),\n",
    "\n",
    "    # convolutional layers:\n",
    "    tf.keras.layers.Conv2D(filters=128,kernel_size=3, padding='same', activation='relu'),\n",
    "    tf.keras.layers.Conv2D(filters=128,kernel_size=3, padding='same', activation='relu'),\n",
    "\n",
    "    #Max pooling layer:\n",
    "    tf.keras.layers.MaxPool2D(pool_size =2, strides =2, padding ='same'),\n",
    "\n",
    "    # convolutional layers:\n",
    "    tf.keras.layers.Conv2D(filters=256,kernel_size=3, padding='same', activation='relu'),\n",
    "    tf.keras.layers.Conv2D(filters=256,kernel_size=3, padding='same', activation='relu'),\n",
    "\n",
    "    #Max pooling layer:\n",
    "    tf.keras.layers.MaxPool2D(pool_size =2, strides =2, padding ='same'),\n",
    "\n",
    "    # convolutional layers:\n",
    "    tf.keras.layers.Conv2D(filters=512,kernel_size=3, padding='same', activation='relu'),\n",
    "    tf.keras.layers.Conv2D(filters=512,kernel_size=3, padding='same', activation='relu'),\n",
    "\n",
    "    #Max pooling layer:\n",
    "    tf.keras.layers.MaxPool2D(pool_size =2, strides =2, padding ='same'),\n",
    "\n",
    "    # convolutional layers:\n",
    "    tf.keras.layers.Conv2D(filters=512,kernel_size=3, padding='same', activation='relu'),\n",
    "    tf.keras.layers.Conv2D(filters=512,kernel_size=3, padding='same', activation='relu'),\n",
    "\n",
    "    #Max pooling layer:\n",
    "    tf.keras.layers.MaxPool2D(pool_size =2, strides =2, padding ='same'),\n",
    "\n",
    "    # dense layer:\n",
    "    tf.keras.layers.Flatten(),\n",
    "    tf.keras.layers.Dense(4096, activation='relu'),\n",
    "    tf.keras.layers.Dense(4096, activation='relu'),\n",
    "    tf.keras.layers.Dense(1000, activation='relu'),\n",
    "\n",
    "    # output layer:\n",
    "    tf.keras.layers.Dense(7, activation='softmax')\n",
    "])"
   ]
  },
  {
   "cell_type": "code",
   "execution_count": 8,
   "metadata": {},
   "outputs": [
    {
     "name": "stdout",
     "output_type": "stream",
     "text": [
      "Model: \"sequential\"\n",
      "_________________________________________________________________\n",
      " Layer (type)                Output Shape              Param #   \n",
      "=================================================================\n",
      " conv2d (Conv2D)             (None, 48, 48, 64)        640       \n",
      "                                                                 \n",
      " conv2d_1 (Conv2D)           (None, 48, 48, 64)        36928     \n",
      "                                                                 \n",
      " max_pooling2d (MaxPooling2D  (None, 24, 24, 64)       0         \n",
      " )                                                               \n",
      "                                                                 \n",
      " conv2d_2 (Conv2D)           (None, 24, 24, 128)       73856     \n",
      "                                                                 \n",
      " conv2d_3 (Conv2D)           (None, 24, 24, 128)       147584    \n",
      "                                                                 \n",
      " max_pooling2d_1 (MaxPooling  (None, 12, 12, 128)      0         \n",
      " 2D)                                                             \n",
      "                                                                 \n",
      " conv2d_4 (Conv2D)           (None, 12, 12, 256)       295168    \n",
      "                                                                 \n",
      " conv2d_5 (Conv2D)           (None, 12, 12, 256)       590080    \n",
      "                                                                 \n",
      " max_pooling2d_2 (MaxPooling  (None, 6, 6, 256)        0         \n",
      " 2D)                                                             \n",
      "                                                                 \n",
      " conv2d_6 (Conv2D)           (None, 6, 6, 512)         1180160   \n",
      "                                                                 \n",
      " conv2d_7 (Conv2D)           (None, 6, 6, 512)         2359808   \n",
      "                                                                 \n",
      " max_pooling2d_3 (MaxPooling  (None, 3, 3, 512)        0         \n",
      " 2D)                                                             \n",
      "                                                                 \n",
      " conv2d_8 (Conv2D)           (None, 3, 3, 512)         2359808   \n",
      "                                                                 \n",
      " conv2d_9 (Conv2D)           (None, 3, 3, 512)         2359808   \n",
      "                                                                 \n",
      " max_pooling2d_4 (MaxPooling  (None, 2, 2, 512)        0         \n",
      " 2D)                                                             \n",
      "                                                                 \n",
      " flatten (Flatten)           (None, 2048)              0         \n",
      "                                                                 \n",
      " dense (Dense)               (None, 4096)              8392704   \n",
      "                                                                 \n",
      " dense_1 (Dense)             (None, 4096)              16781312  \n",
      "                                                                 \n",
      " dense_2 (Dense)             (None, 1000)              4097000   \n",
      "                                                                 \n",
      " dense_3 (Dense)             (None, 7)                 7007      \n",
      "                                                                 \n",
      "=================================================================\n",
      "Total params: 38,681,863\n",
      "Trainable params: 38,681,863\n",
      "Non-trainable params: 0\n",
      "_________________________________________________________________\n"
     ]
    }
   ],
   "source": [
    "VGG16_model.summary()"
   ]
  },
  {
   "cell_type": "code",
   "execution_count": 9,
   "metadata": {},
   "outputs": [],
   "source": [
    "VGG16_model.compile(optimizer=tf.keras.optimizers.Adam(learning_rate = 0.0001),  # pick an optimizer and learning rate\n",
    "                     loss=tf.keras.losses.CategoricalCrossentropy(),  # pick a loss\n",
    "                     metrics=tf.keras.metrics.CategoricalAccuracy())  # pick a metric to monitor"
   ]
  },
  {
   "cell_type": "code",
   "execution_count": 10,
   "metadata": {},
   "outputs": [
    {
     "name": "stdout",
     "output_type": "stream",
     "text": [
      "Epoch 1/30\n"
     ]
    },
    {
     "ename": "",
     "evalue": "",
     "output_type": "error",
     "traceback": [
      "\u001b[1;31mCanceled future for execute_request message before replies were done"
     ]
    },
    {
     "ename": "",
     "evalue": "",
     "output_type": "error",
     "traceback": [
      "\u001b[1;31mThe Kernel crashed while executing code in the the current cell or a previous cell. Please review the code in the cell(s) to identify a possible cause of the failure. Click <a href='https://aka.ms/vscodeJupyterKernelCrash'>here</a> for more info. View Jupyter <a href='command:jupyter.viewOutput'>log</a> for further details."
     ]
    }
   ],
   "source": [
    "n_epoch = 30\n",
    "hist = VGG16_model.fit(x_train, y_train,\n",
    "              epochs=n_epoch,\n",
    "              batch_size=32,\n",
    "              validation_data=(x_val, y_val))"
   ]
  },
  {
   "cell_type": "code",
   "execution_count": null,
   "metadata": {},
   "outputs": [],
   "source": [
    "plt.figure(figsize=(15, 5), dpi=80)\n",
    "plt.subplot(1, 2, 1) # row 1, col 2 index 1\n",
    "plt.plot(np.arange(n_epoch),hist.history.get('categorical_accuracy'), label=\"Train\")\n",
    "plt.plot(np.arange(n_epoch),hist.history.get('val_categorical_accuracy'), label=\"Test\")\n",
    "plt.xlabel(\"Epoch\")\n",
    "plt.ylabel(\"Accuracy\")\n",
    "plt.legend(loc='best')\n",
    "plt.title(\"Training & Validation Accuracy, learning rate = 0.0001\")\n",
    "\n",
    "plt.subplot(1, 2, 2) # index 2\n",
    "plt.plot(np.arange(n_epoch),hist.history.get('loss'), label=\"Train\")\n",
    "plt.plot(np.arange(n_epoch),hist.history.get('val_loss'), label=\"Test\")\n",
    "plt.xlabel(\"Epoch\")\n",
    "plt.ylabel(\"loss\")\n",
    "plt.legend(loc='best')\n",
    "plt.title(\"Training & Validation Loss, learning rate = 0.0001\")\n",
    "plt.show()"
   ]
  },
  {
   "cell_type": "code",
   "execution_count": null,
   "metadata": {},
   "outputs": [],
   "source": []
  }
 ],
 "metadata": {
  "kernelspec": {
   "display_name": "Python 3",
   "language": "python",
   "name": "python3"
  },
  "language_info": {
   "codemirror_mode": {
    "name": "ipython",
    "version": 3
   },
   "file_extension": ".py",
   "mimetype": "text/x-python",
   "name": "python",
   "nbconvert_exporter": "python",
   "pygments_lexer": "ipython3",
   "version": "3.10.4"
  },
  "orig_nbformat": 4,
  "vscode": {
   "interpreter": {
    "hash": "3ad933181bd8a04b432d3370b9dc3b0662ad032c4dfaa4e4f1596c548f763858"
   }
  }
 },
 "nbformat": 4,
 "nbformat_minor": 2
}
